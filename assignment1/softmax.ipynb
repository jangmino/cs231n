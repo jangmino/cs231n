{
 "cells": [
  {
   "cell_type": "markdown",
   "metadata": {
    "deletable": true,
    "editable": true
   },
   "source": [
    "# Softmax exercise\n",
    "\n",
    "*Complete and hand in this completed worksheet (including its outputs and any supporting code outside of the worksheet) with your assignment submission. For more details see the [assignments page](http://vision.stanford.edu/teaching/cs231n/assignments.html) on the course website.*\n",
    "\n",
    "This exercise is analogous to the SVM exercise. You will:\n",
    "\n",
    "- implement a fully-vectorized **loss function** for the Softmax classifier\n",
    "- implement the fully-vectorized expression for its **analytic gradient**\n",
    "- **check your implementation** with numerical gradient\n",
    "- use a validation set to **tune the learning rate and regularization** strength\n",
    "- **optimize** the loss function with **SGD**\n",
    "- **visualize** the final learned weights\n"
   ]
  },
  {
   "cell_type": "code",
   "execution_count": 1,
   "metadata": {
    "collapsed": false,
    "deletable": true,
    "editable": true
   },
   "outputs": [],
   "source": [
    "import random\n",
    "import numpy as np\n",
    "from cs231n.data_utils import load_CIFAR10\n",
    "import matplotlib.pyplot as plt\n",
    "\n",
    "from __future__ import print_function\n",
    "\n",
    "%matplotlib inline\n",
    "plt.rcParams['figure.figsize'] = (10.0, 8.0) # set default size of plots\n",
    "plt.rcParams['image.interpolation'] = 'nearest'\n",
    "plt.rcParams['image.cmap'] = 'gray'\n",
    "\n",
    "# for auto-reloading extenrnal modules\n",
    "# see http://stackoverflow.com/questions/1907993/autoreload-of-modules-in-ipython\n",
    "%load_ext autoreload\n",
    "%autoreload 2"
   ]
  },
  {
   "cell_type": "code",
   "execution_count": 2,
   "metadata": {
    "collapsed": false,
    "deletable": true,
    "editable": true
   },
   "outputs": [
    {
     "name": "stdout",
     "output_type": "stream",
     "text": [
      "Train data shape:  (49000, 3073)\n",
      "Train labels shape:  (49000,)\n",
      "Validation data shape:  (1000, 3073)\n",
      "Validation labels shape:  (1000,)\n",
      "Test data shape:  (1000, 3073)\n",
      "Test labels shape:  (1000,)\n",
      "dev data shape:  (500, 3073)\n",
      "dev labels shape:  (500,)\n"
     ]
    }
   ],
   "source": [
    "def get_CIFAR10_data(num_training=49000, num_validation=1000, num_test=1000, num_dev=500):\n",
    "    \"\"\"\n",
    "    Load the CIFAR-10 dataset from disk and perform preprocessing to prepare\n",
    "    it for the linear classifier. These are the same steps as we used for the\n",
    "    SVM, but condensed to a single function.  \n",
    "    \"\"\"\n",
    "    # Load the raw CIFAR-10 data\n",
    "    cifar10_dir = 'cs231n/datasets/cifar-10-batches-py'\n",
    "    X_train, y_train, X_test, y_test = load_CIFAR10(cifar10_dir)\n",
    "    \n",
    "    # subsample the data\n",
    "    mask = list(range(num_training, num_training + num_validation))\n",
    "    X_val = X_train[mask]\n",
    "    y_val = y_train[mask]\n",
    "    mask = list(range(num_training))\n",
    "    X_train = X_train[mask]\n",
    "    y_train = y_train[mask]\n",
    "    mask = list(range(num_test))\n",
    "    X_test = X_test[mask]\n",
    "    y_test = y_test[mask]\n",
    "    mask = np.random.choice(num_training, num_dev, replace=False)\n",
    "    X_dev = X_train[mask]\n",
    "    y_dev = y_train[mask]\n",
    "    \n",
    "    # Preprocessing: reshape the image data into rows\n",
    "    X_train = np.reshape(X_train, (X_train.shape[0], -1))\n",
    "    X_val = np.reshape(X_val, (X_val.shape[0], -1))\n",
    "    X_test = np.reshape(X_test, (X_test.shape[0], -1))\n",
    "    X_dev = np.reshape(X_dev, (X_dev.shape[0], -1))\n",
    "    \n",
    "    # Normalize the data: subtract the mean image\n",
    "    mean_image = np.mean(X_train, axis = 0)\n",
    "    X_train -= mean_image\n",
    "    X_val -= mean_image\n",
    "    X_test -= mean_image\n",
    "    X_dev -= mean_image\n",
    "    \n",
    "    # add bias dimension and transform into columns\n",
    "    X_train = np.hstack([X_train, np.ones((X_train.shape[0], 1))])\n",
    "    X_val = np.hstack([X_val, np.ones((X_val.shape[0], 1))])\n",
    "    X_test = np.hstack([X_test, np.ones((X_test.shape[0], 1))])\n",
    "    X_dev = np.hstack([X_dev, np.ones((X_dev.shape[0], 1))])\n",
    "    \n",
    "    return X_train, y_train, X_val, y_val, X_test, y_test, X_dev, y_dev\n",
    "\n",
    "\n",
    "# Invoke the above function to get our data.\n",
    "X_train, y_train, X_val, y_val, X_test, y_test, X_dev, y_dev = get_CIFAR10_data()\n",
    "print('Train data shape: ', X_train.shape)\n",
    "print('Train labels shape: ', y_train.shape)\n",
    "print('Validation data shape: ', X_val.shape)\n",
    "print('Validation labels shape: ', y_val.shape)\n",
    "print('Test data shape: ', X_test.shape)\n",
    "print('Test labels shape: ', y_test.shape)\n",
    "print('dev data shape: ', X_dev.shape)\n",
    "print('dev labels shape: ', y_dev.shape)"
   ]
  },
  {
   "cell_type": "markdown",
   "metadata": {
    "deletable": true,
    "editable": true
   },
   "source": [
    "## Softmax Classifier\n",
    "\n",
    "Your code for this section will all be written inside **cs231n/classifiers/softmax.py**. \n"
   ]
  },
  {
   "cell_type": "code",
   "execution_count": 9,
   "metadata": {
    "collapsed": false,
    "deletable": true,
    "editable": true
   },
   "outputs": [
    {
     "name": "stdout",
     "output_type": "stream",
     "text": [
      "loss: 2.332589\n",
      "sanity check: 2.302585\n"
     ]
    }
   ],
   "source": [
    "# First implement the naive softmax loss function with nested loops.\n",
    "# Open the file cs231n/classifiers/softmax.py and implement the\n",
    "# softmax_loss_naive function.\n",
    "\n",
    "from cs231n.classifiers.softmax import softmax_loss_naive\n",
    "import time\n",
    "\n",
    "# Generate a random softmax weight matrix and use it to compute the loss.\n",
    "W = np.random.randn(3073, 10) * 0.0001\n",
    "loss, grad = softmax_loss_naive(W, X_dev, y_dev, 0.0)\n",
    "\n",
    "# As a rough sanity check, our loss should be something close to -log(0.1).\n",
    "print('loss: %f' % loss)\n",
    "print('sanity check: %f' % (-np.log(0.1)))"
   ]
  },
  {
   "cell_type": "markdown",
   "metadata": {
    "deletable": true,
    "editable": true
   },
   "source": [
    "## Inline Question 1:\n",
    "Why do we expect our loss to be close to -log(0.1)? Explain briefly.**\n",
    "\n",
    "Because there are ten classes and W is randomly initialized, the classes are uniformly distributed (p=0.1).\n"
   ]
  },
  {
   "cell_type": "code",
   "execution_count": 14,
   "metadata": {
    "collapsed": false,
    "deletable": true,
    "editable": true
   },
   "outputs": [
    {
     "name": "stdout",
     "output_type": "stream",
     "text": [
      "numerical: 0.329273 analytic: 0.329273, relative error: 1.069153e-07\n",
      "numerical: -2.172161 analytic: -2.172161, relative error: 8.439205e-09\n",
      "numerical: -0.950810 analytic: -0.950810, relative error: 6.371140e-09\n",
      "numerical: 1.994571 analytic: 1.994571, relative error: 2.359850e-08\n",
      "numerical: 0.545785 analytic: 0.545785, relative error: 1.270007e-08\n",
      "numerical: -2.888691 analytic: -2.888691, relative error: 3.001576e-08\n",
      "numerical: -2.392700 analytic: -2.392700, relative error: 6.873007e-09\n",
      "numerical: 4.123910 analytic: 4.123909, relative error: 2.018233e-09\n",
      "numerical: -1.322007 analytic: -1.322007, relative error: 1.538298e-09\n",
      "numerical: -1.358186 analytic: -1.358186, relative error: 1.371377e-08\n",
      "numerical: -0.412043 analytic: -0.412043, relative error: 1.643558e-08\n",
      "numerical: -3.391166 analytic: -3.391166, relative error: 7.310757e-09\n",
      "numerical: -0.158731 analytic: -0.158731, relative error: 6.301877e-08\n",
      "numerical: 0.501048 analytic: 0.501048, relative error: 5.713445e-08\n",
      "numerical: -2.471778 analytic: -2.471777, relative error: 1.590303e-08\n",
      "numerical: -0.264159 analytic: -0.264159, relative error: 1.319140e-07\n",
      "numerical: 0.173763 analytic: 0.173763, relative error: 1.994548e-07\n",
      "numerical: -2.499195 analytic: -2.499195, relative error: 6.866293e-09\n",
      "numerical: 0.246752 analytic: 0.246752, relative error: 1.779141e-07\n",
      "numerical: 0.133613 analytic: 0.133613, relative error: 1.709086e-07\n"
     ]
    }
   ],
   "source": [
    "# Complete the implementation of softmax_loss_naive and implement a (naive)\n",
    "# version of the gradient that uses nested loops.\n",
    "loss, grad = softmax_loss_naive(W, X_dev, y_dev, 0.0)\n",
    "\n",
    "# As we did for the SVM, use numeric gradient checking as a debugging tool.\n",
    "# The numeric gradient should be close to the analytic gradient.\n",
    "from cs231n.gradient_check import grad_check_sparse\n",
    "f = lambda w: softmax_loss_naive(w, X_dev, y_dev, 0.0)[0]\n",
    "grad_numerical = grad_check_sparse(f, W, grad, 10)\n",
    "\n",
    "# similar to SVM case, do another gradient check with regularization\n",
    "loss, grad = softmax_loss_naive(W, X_dev, y_dev, 5e1)\n",
    "f = lambda w: softmax_loss_naive(w, X_dev, y_dev, 5e1)[0]\n",
    "grad_numerical = grad_check_sparse(f, W, grad, 10)"
   ]
  },
  {
   "cell_type": "code",
   "execution_count": 16,
   "metadata": {
    "collapsed": false,
    "deletable": true,
    "editable": true
   },
   "outputs": [
    {
     "name": "stdout",
     "output_type": "stream",
     "text": [
      "naive loss: 2.332589e+00 computed in 0.058000s\n",
      "vectorized loss: 2.332589e+00 computed in 0.003001s\n",
      "Loss difference: 0.000000\n",
      "Gradient difference: 0.000000\n"
     ]
    }
   ],
   "source": [
    "# Now that we have a naive implementation of the softmax loss function and its gradient,\n",
    "# implement a vectorized version in softmax_loss_vectorized.\n",
    "# The two versions should compute the same results, but the vectorized version should be\n",
    "# much faster.\n",
    "tic = time.time()\n",
    "loss_naive, grad_naive = softmax_loss_naive(W, X_dev, y_dev, 0.000005)\n",
    "toc = time.time()\n",
    "print('naive loss: %e computed in %fs' % (loss_naive, toc - tic))\n",
    "\n",
    "from cs231n.classifiers.softmax import softmax_loss_vectorized\n",
    "tic = time.time()\n",
    "loss_vectorized, grad_vectorized = softmax_loss_vectorized(W, X_dev, y_dev, 0.000005)\n",
    "toc = time.time()\n",
    "print('vectorized loss: %e computed in %fs' % (loss_vectorized, toc - tic))\n",
    "\n",
    "# As we did for the SVM, we use the Frobenius norm to compare the two versions\n",
    "# of the gradient.\n",
    "grad_difference = np.linalg.norm(grad_naive - grad_vectorized, ord='fro')\n",
    "print('Loss difference: %f' % np.abs(loss_naive - loss_vectorized))\n",
    "print('Gradient difference: %f' % grad_difference)"
   ]
  },
  {
   "cell_type": "code",
   "execution_count": 20,
   "metadata": {
    "collapsed": false,
    "deletable": true,
    "editable": true
   },
   "outputs": [
    {
     "name": "stdout",
     "output_type": "stream",
     "text": [
      "lr 1.000000e-07 reg 2.500000e+04 train accuracy: 0.332612 val accuracy: 0.349000\n",
      "lr 1.000000e-07 reg 2.777778e+04 train accuracy: 0.327224 val accuracy: 0.339000\n",
      "lr 1.000000e-07 reg 3.055556e+04 train accuracy: 0.329020 val accuracy: 0.342000\n",
      "lr 1.000000e-07 reg 3.333333e+04 train accuracy: 0.315714 val accuracy: 0.326000\n",
      "lr 1.000000e-07 reg 3.611111e+04 train accuracy: 0.320469 val accuracy: 0.332000\n",
      "lr 1.000000e-07 reg 3.888889e+04 train accuracy: 0.312469 val accuracy: 0.330000\n",
      "lr 1.000000e-07 reg 4.166667e+04 train accuracy: 0.309796 val accuracy: 0.329000\n",
      "lr 1.000000e-07 reg 4.444444e+04 train accuracy: 0.303082 val accuracy: 0.322000\n",
      "lr 1.000000e-07 reg 4.722222e+04 train accuracy: 0.306653 val accuracy: 0.325000\n",
      "lr 1.000000e-07 reg 5.000000e+04 train accuracy: 0.305571 val accuracy: 0.315000\n",
      "lr 1.444444e-07 reg 2.500000e+04 train accuracy: 0.327000 val accuracy: 0.339000\n",
      "lr 1.444444e-07 reg 2.777778e+04 train accuracy: 0.328694 val accuracy: 0.345000\n",
      "lr 1.444444e-07 reg 3.055556e+04 train accuracy: 0.319388 val accuracy: 0.331000\n",
      "lr 1.444444e-07 reg 3.333333e+04 train accuracy: 0.319531 val accuracy: 0.341000\n",
      "lr 1.444444e-07 reg 3.611111e+04 train accuracy: 0.319347 val accuracy: 0.329000\n",
      "lr 1.444444e-07 reg 3.888889e+04 train accuracy: 0.310837 val accuracy: 0.322000\n",
      "lr 1.444444e-07 reg 4.166667e+04 train accuracy: 0.316633 val accuracy: 0.329000\n",
      "lr 1.444444e-07 reg 4.444444e+04 train accuracy: 0.311143 val accuracy: 0.331000\n",
      "lr 1.444444e-07 reg 4.722222e+04 train accuracy: 0.307041 val accuracy: 0.325000\n",
      "lr 1.444444e-07 reg 5.000000e+04 train accuracy: 0.307980 val accuracy: 0.320000\n",
      "lr 1.888889e-07 reg 2.500000e+04 train accuracy: 0.323306 val accuracy: 0.334000\n",
      "lr 1.888889e-07 reg 2.777778e+04 train accuracy: 0.320102 val accuracy: 0.348000\n",
      "lr 1.888889e-07 reg 3.055556e+04 train accuracy: 0.323653 val accuracy: 0.332000\n",
      "lr 1.888889e-07 reg 3.333333e+04 train accuracy: 0.317286 val accuracy: 0.332000\n",
      "lr 1.888889e-07 reg 3.611111e+04 train accuracy: 0.313122 val accuracy: 0.329000\n",
      "lr 1.888889e-07 reg 3.888889e+04 train accuracy: 0.311551 val accuracy: 0.331000\n",
      "lr 1.888889e-07 reg 4.166667e+04 train accuracy: 0.315694 val accuracy: 0.326000\n",
      "lr 1.888889e-07 reg 4.444444e+04 train accuracy: 0.309837 val accuracy: 0.319000\n",
      "lr 1.888889e-07 reg 4.722222e+04 train accuracy: 0.302653 val accuracy: 0.318000\n",
      "lr 1.888889e-07 reg 5.000000e+04 train accuracy: 0.309735 val accuracy: 0.321000\n",
      "lr 2.333333e-07 reg 2.500000e+04 train accuracy: 0.332408 val accuracy: 0.343000\n",
      "lr 2.333333e-07 reg 2.777778e+04 train accuracy: 0.321816 val accuracy: 0.332000\n",
      "lr 2.333333e-07 reg 3.055556e+04 train accuracy: 0.327653 val accuracy: 0.341000\n",
      "lr 2.333333e-07 reg 3.333333e+04 train accuracy: 0.318878 val accuracy: 0.338000\n",
      "lr 2.333333e-07 reg 3.611111e+04 train accuracy: 0.320347 val accuracy: 0.334000\n",
      "lr 2.333333e-07 reg 3.888889e+04 train accuracy: 0.307592 val accuracy: 0.321000\n",
      "lr 2.333333e-07 reg 4.166667e+04 train accuracy: 0.313102 val accuracy: 0.331000\n",
      "lr 2.333333e-07 reg 4.444444e+04 train accuracy: 0.308245 val accuracy: 0.333000\n",
      "lr 2.333333e-07 reg 4.722222e+04 train accuracy: 0.311429 val accuracy: 0.316000\n",
      "lr 2.333333e-07 reg 5.000000e+04 train accuracy: 0.312184 val accuracy: 0.329000\n",
      "lr 2.777778e-07 reg 2.500000e+04 train accuracy: 0.321776 val accuracy: 0.331000\n",
      "lr 2.777778e-07 reg 2.777778e+04 train accuracy: 0.321408 val accuracy: 0.337000\n",
      "lr 2.777778e-07 reg 3.055556e+04 train accuracy: 0.316653 val accuracy: 0.326000\n",
      "lr 2.777778e-07 reg 3.333333e+04 train accuracy: 0.326714 val accuracy: 0.334000\n",
      "lr 2.777778e-07 reg 3.611111e+04 train accuracy: 0.310653 val accuracy: 0.329000\n",
      "lr 2.777778e-07 reg 3.888889e+04 train accuracy: 0.319612 val accuracy: 0.343000\n",
      "lr 2.777778e-07 reg 4.166667e+04 train accuracy: 0.317163 val accuracy: 0.332000\n",
      "lr 2.777778e-07 reg 4.444444e+04 train accuracy: 0.302469 val accuracy: 0.331000\n",
      "lr 2.777778e-07 reg 4.722222e+04 train accuracy: 0.303265 val accuracy: 0.322000\n",
      "lr 2.777778e-07 reg 5.000000e+04 train accuracy: 0.302755 val accuracy: 0.312000\n",
      "lr 3.222222e-07 reg 2.500000e+04 train accuracy: 0.327224 val accuracy: 0.345000\n",
      "lr 3.222222e-07 reg 2.777778e+04 train accuracy: 0.321163 val accuracy: 0.338000\n",
      "lr 3.222222e-07 reg 3.055556e+04 train accuracy: 0.321306 val accuracy: 0.344000\n",
      "lr 3.222222e-07 reg 3.333333e+04 train accuracy: 0.326020 val accuracy: 0.336000\n",
      "lr 3.222222e-07 reg 3.611111e+04 train accuracy: 0.306776 val accuracy: 0.319000\n",
      "lr 3.222222e-07 reg 3.888889e+04 train accuracy: 0.305796 val accuracy: 0.321000\n",
      "lr 3.222222e-07 reg 4.166667e+04 train accuracy: 0.306367 val accuracy: 0.325000\n",
      "lr 3.222222e-07 reg 4.444444e+04 train accuracy: 0.313469 val accuracy: 0.328000\n",
      "lr 3.222222e-07 reg 4.722222e+04 train accuracy: 0.301571 val accuracy: 0.324000\n",
      "lr 3.222222e-07 reg 5.000000e+04 train accuracy: 0.310184 val accuracy: 0.320000\n",
      "lr 3.666667e-07 reg 2.500000e+04 train accuracy: 0.330714 val accuracy: 0.337000\n",
      "lr 3.666667e-07 reg 2.777778e+04 train accuracy: 0.324469 val accuracy: 0.342000\n",
      "lr 3.666667e-07 reg 3.055556e+04 train accuracy: 0.320510 val accuracy: 0.336000\n",
      "lr 3.666667e-07 reg 3.333333e+04 train accuracy: 0.323102 val accuracy: 0.337000\n",
      "lr 3.666667e-07 reg 3.611111e+04 train accuracy: 0.313939 val accuracy: 0.315000\n",
      "lr 3.666667e-07 reg 3.888889e+04 train accuracy: 0.315959 val accuracy: 0.317000\n",
      "lr 3.666667e-07 reg 4.166667e+04 train accuracy: 0.310204 val accuracy: 0.322000\n",
      "lr 3.666667e-07 reg 4.444444e+04 train accuracy: 0.310510 val accuracy: 0.322000\n",
      "lr 3.666667e-07 reg 4.722222e+04 train accuracy: 0.303061 val accuracy: 0.319000\n",
      "lr 3.666667e-07 reg 5.000000e+04 train accuracy: 0.300327 val accuracy: 0.307000\n",
      "lr 4.111111e-07 reg 2.500000e+04 train accuracy: 0.330367 val accuracy: 0.342000\n",
      "lr 4.111111e-07 reg 2.777778e+04 train accuracy: 0.318714 val accuracy: 0.338000\n",
      "lr 4.111111e-07 reg 3.055556e+04 train accuracy: 0.324612 val accuracy: 0.342000\n",
      "lr 4.111111e-07 reg 3.333333e+04 train accuracy: 0.321633 val accuracy: 0.334000\n",
      "lr 4.111111e-07 reg 3.611111e+04 train accuracy: 0.315000 val accuracy: 0.336000\n",
      "lr 4.111111e-07 reg 3.888889e+04 train accuracy: 0.307184 val accuracy: 0.325000\n",
      "lr 4.111111e-07 reg 4.166667e+04 train accuracy: 0.309735 val accuracy: 0.328000\n",
      "lr 4.111111e-07 reg 4.444444e+04 train accuracy: 0.305347 val accuracy: 0.325000\n",
      "lr 4.111111e-07 reg 4.722222e+04 train accuracy: 0.305571 val accuracy: 0.309000\n",
      "lr 4.111111e-07 reg 5.000000e+04 train accuracy: 0.298755 val accuracy: 0.319000\n",
      "lr 4.555556e-07 reg 2.500000e+04 train accuracy: 0.334347 val accuracy: 0.356000\n",
      "lr 4.555556e-07 reg 2.777778e+04 train accuracy: 0.319939 val accuracy: 0.344000\n",
      "lr 4.555556e-07 reg 3.055556e+04 train accuracy: 0.306898 val accuracy: 0.327000\n",
      "lr 4.555556e-07 reg 3.333333e+04 train accuracy: 0.316224 val accuracy: 0.330000\n",
      "lr 4.555556e-07 reg 3.611111e+04 train accuracy: 0.303041 val accuracy: 0.321000\n",
      "lr 4.555556e-07 reg 3.888889e+04 train accuracy: 0.308673 val accuracy: 0.312000\n",
      "lr 4.555556e-07 reg 4.166667e+04 train accuracy: 0.327020 val accuracy: 0.327000\n",
      "lr 4.555556e-07 reg 4.444444e+04 train accuracy: 0.303327 val accuracy: 0.318000\n",
      "lr 4.555556e-07 reg 4.722222e+04 train accuracy: 0.301020 val accuracy: 0.311000\n",
      "lr 4.555556e-07 reg 5.000000e+04 train accuracy: 0.302776 val accuracy: 0.317000\n",
      "lr 5.000000e-07 reg 2.500000e+04 train accuracy: 0.316796 val accuracy: 0.338000\n",
      "lr 5.000000e-07 reg 2.777778e+04 train accuracy: 0.316694 val accuracy: 0.330000\n",
      "lr 5.000000e-07 reg 3.055556e+04 train accuracy: 0.316041 val accuracy: 0.338000\n",
      "lr 5.000000e-07 reg 3.333333e+04 train accuracy: 0.322184 val accuracy: 0.323000\n",
      "lr 5.000000e-07 reg 3.611111e+04 train accuracy: 0.304000 val accuracy: 0.314000\n",
      "lr 5.000000e-07 reg 3.888889e+04 train accuracy: 0.307388 val accuracy: 0.321000\n",
      "lr 5.000000e-07 reg 4.166667e+04 train accuracy: 0.304327 val accuracy: 0.312000\n",
      "lr 5.000000e-07 reg 4.444444e+04 train accuracy: 0.309735 val accuracy: 0.323000\n",
      "lr 5.000000e-07 reg 4.722222e+04 train accuracy: 0.299531 val accuracy: 0.317000\n",
      "lr 5.000000e-07 reg 5.000000e+04 train accuracy: 0.302469 val accuracy: 0.319000\n",
      "best validation accuracy achieved during cross-validation: 0.356000\n"
     ]
    }
   ],
   "source": [
    "# Use the validation set to tune hyperparameters (regularization strength and\n",
    "# learning rate). You should experiment with different ranges for the learning\n",
    "# rates and regularization strengths; if you are careful you should be able to\n",
    "# get a classification accuracy of over 0.35 on the validation set.\n",
    "from cs231n.classifiers import Softmax\n",
    "results = {}\n",
    "best_val = -1\n",
    "best_softmax = None\n",
    "learning_rates = [1e-7, 5e-7]\n",
    "regularization_strengths = [2.5e4, 5e4]\n",
    "\n",
    "################################################################################\n",
    "# TODO:                                                                        #\n",
    "# Use the validation set to set the learning rate and regularization strength. #\n",
    "# This should be identical to the validation that you did for the SVM; save    #\n",
    "# the best trained softmax classifer in best_softmax.                          #\n",
    "################################################################################\n",
    "lrs = np.linspace(learning_rates[0], learning_rates[1], 10)\n",
    "rss = np.linspace(regularization_strengths[0], regularization_strengths[1], 10)\n",
    "for lr in lrs:\n",
    "    for rs in rss:\n",
    "        soft = Softmax()\n",
    "        loss_hist = soft.train(X_train, y_train, learning_rate=lr, reg=rs, num_iters=1500,\n",
    "                      verbose=False)\n",
    "        y_train_pred = soft.predict(X_train)\n",
    "        y_val_pred = soft.predict(X_val)\n",
    "        \n",
    "        accuracy = np.mean(y_val == y_val_pred)\n",
    "        results[(lr,rs)] = (np.mean(y_train == y_train_pred), accuracy) \n",
    "        if accuracy > best_val:\n",
    "            best_val = accuracy\n",
    "            best_softmax = soft\n",
    "\n",
    "################################################################################\n",
    "#                              END OF YOUR CODE                                #\n",
    "################################################################################\n",
    "    \n",
    "# Print out results.\n",
    "for lr, reg in sorted(results):\n",
    "    train_accuracy, val_accuracy = results[(lr, reg)]\n",
    "    print('lr %e reg %e train accuracy: %f val accuracy: %f' % (\n",
    "                lr, reg, train_accuracy, val_accuracy))\n",
    "    \n",
    "print('best validation accuracy achieved during cross-validation: %f' % best_val)"
   ]
  },
  {
   "cell_type": "code",
   "execution_count": 18,
   "metadata": {
    "collapsed": false,
    "deletable": true,
    "editable": true
   },
   "outputs": [
    {
     "name": "stdout",
     "output_type": "stream",
     "text": [
      "softmax on raw pixels final test set accuracy: 0.332000\n"
     ]
    }
   ],
   "source": [
    "# evaluate on test set\n",
    "# Evaluate the best softmax on test set\n",
    "y_test_pred = best_softmax.predict(X_test)\n",
    "test_accuracy = np.mean(y_test == y_test_pred)\n",
    "print('softmax on raw pixels final test set accuracy: %f' % (test_accuracy, ))"
   ]
  },
  {
   "cell_type": "code",
   "execution_count": 19,
   "metadata": {
    "collapsed": false,
    "deletable": true,
    "editable": true
   },
   "outputs": [
    {
     "data": {
      "image/png": "[encoded data removed]",
      "text/plain": [
       "<matplotlib.figure.Figure at 0x1b227482ef0>"
      ]
     },
     "metadata": {},
     "output_type": "display_data"
    }
   ],
   "source": [
    "# Visualize the learned weights for each class\n",
    "w = best_softmax.W[:-1,:] # strip out the bias\n",
    "w = w.reshape(32, 32, 3, 10)\n",
    "\n",
    "w_min, w_max = np.min(w), np.max(w)\n",
    "\n",
    "classes = ['plane', 'car', 'bird', 'cat', 'deer', 'dog', 'frog', 'horse', 'ship', 'truck']\n",
    "for i in range(10):\n",
    "    plt.subplot(2, 5, i + 1)\n",
    "    \n",
    "    # Rescale the weights to be between 0 and 255\n",
    "    wimg = 255.0 * (w[:, :, :, i].squeeze() - w_min) / (w_max - w_min)\n",
    "    plt.imshow(wimg.astype('uint8'))\n",
    "    plt.axis('off')\n",
    "    plt.title(classes[i])"
   ]
  },
  {
   "cell_type": "code",
   "execution_count": null,
   "metadata": {
    "collapsed": true
   },
   "outputs": [],
   "source": []
  }
 ],
 "metadata": {
  "kernelspec": {
   "display_name": "Python 3",
   "language": "python",
   "name": "python3"
  },
  "language_info": {
   "codemirror_mode": {
    "name": "ipython",
    "version": 3
   },
   "file_extension": ".py",
   "mimetype": "text/x-python",
   "name": "python",
   "nbconvert_exporter": "python",
   "pygments_lexer": "ipython3",
   "version": "3.5.3"
  }
 },
 "nbformat": 4,
 "nbformat_minor": 0
}
